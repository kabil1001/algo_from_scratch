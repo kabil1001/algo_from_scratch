{
 "cells": [
  {
   "cell_type": "code",
   "execution_count": 2,
   "metadata": {},
   "outputs": [],
   "source": [
    "import pandas as pd\n",
    "import numpy as np\n",
    "from collections import Counter\n",
    "import seaborn as sns\n",
    "import matplotlib.pyplot as plt\n",
    "%matplotlib inline"
   ]
  },
  {
   "cell_type": "code",
   "execution_count": 3,
   "metadata": {},
   "outputs": [],
   "source": [
    "def train(X_train, y_train):\n",
    "    # do nothing\n",
    "    return\n",
    "\n",
    "def predict(X_train, y_train, x_test, k):\n",
    "    # create list for distances and targets\n",
    "    distances = []\n",
    "    targets = []\n",
    "\n",
    "    for i in range(len(X_train)):\n",
    "        # compute and store L2 distance\n",
    "        distances.append([np.sqrt(np.sum(np.square(x_test - X_train[i, :]))), i])\n",
    "\n",
    "    # sort the list\n",
    "    distances = sorted(distances)\n",
    "\n",
    "    # make a list of the k neighbors' targets\n",
    "    for i in range(k):\n",
    "        index = distances[i][1]\n",
    "        targets.append(y_train[index])\n",
    "\n",
    "    # return most common target\n",
    "    return Counter(targets).most_common(1)[0][0]\n",
    "\n",
    "def k_nearest_neighbor(X_train, y_train, X_test, k):\n",
    "    # check if k larger than n\n",
    "    assert k <= len(X_train), \"[!] k can't be larger than number of samples.\"\n",
    "\n",
    "    # train on the input data\n",
    "    train(X_train, y_train)\n",
    "    \n",
    "    # loop over all observations\n",
    "    predictions = []\n",
    "\n",
    "    # predict for each testing observation\n",
    "    for i in range(len(X_test)):\n",
    "        predictions.append(predict(X_train, y_train, X_test[i, :], k))\n",
    "    \n",
    "    return np.asarray(predictions)"
   ]
  },
  {
   "cell_type": "code",
   "execution_count": 4,
   "metadata": {},
   "outputs": [],
   "source": [
    "train_data = pd.read_excel(\"C:/Users/kxj133/Downloads/task_9_5/Example_DT_conti.xlsx\")\n",
    "\n",
    "train_data.columns = ['col1','col2','target']"
   ]
  },
  {
   "cell_type": "code",
   "execution_count": 5,
   "metadata": {},
   "outputs": [],
   "source": [
    "X_train = train_data[['col1','col2']].values\n",
    "y_train = train_data['target'].values"
   ]
  },
  {
   "cell_type": "code",
   "execution_count": 6,
   "metadata": {
    "scrolled": false
   },
   "outputs": [],
   "source": [
    "X_test = pd.DataFrame(columns = ['col1','col2'])\n",
    "X_test['col1'] = np.random.randint(low =1,high = 100,size =10000)\n",
    "X_test['col2'] = np.random.randint(low =1,high = 100,size =10000)\n",
    "\n",
    "X_test = X_test.values"
   ]
  },
  {
   "cell_type": "code",
   "execution_count": 7,
   "metadata": {
    "scrolled": false
   },
   "outputs": [],
   "source": [
    "predictions = k_nearest_neighbor(X_train, y_train, X_test, k=5)"
   ]
  },
  {
   "cell_type": "code",
   "execution_count": 8,
   "metadata": {},
   "outputs": [
    {
     "data": {
      "image/png": "[encoded data removed]",
      "text/plain": [
       "<Figure size 432x288 with 1 Axes>"
      ]
     },
     "metadata": {
      "needs_background": "light"
     },
     "output_type": "display_data"
    }
   ],
   "source": [
    "\n",
    "sns.scatterplot(x = train_data[train_data['target'] == 0]['col1'],\n",
    "                y = train_data[train_data['target'] == 0]['col2'],\n",
    "                label='class_0')\n",
    "\n",
    "sns.scatterplot(x = train_data[train_data['target'] == 1]['col1'],\n",
    "                y = train_data[train_data['target'] == 1]['col2'],\n",
    "                label='class_1')\n",
    "\n",
    "sns.scatterplot(x = train_data[train_data['target'] == 2]['col1'],\n",
    "                y = train_data[train_data['target'] == 2]['col2'],\n",
    "                label='class_2')\n",
    "\n",
    "sns.scatterplot(x = X_test[0:10,0],\n",
    "                y = X_test[0:10,1],\n",
    "                label='test_data_points')\n",
    "\n",
    "plt.title(\"Decision Surface\")\n",
    "\n",
    "\n",
    "plt.xlabel('col1')\n",
    "plt.ylabel('col2')\n",
    "plt.show()"
   ]
  },
  {
   "cell_type": "code",
   "execution_count": null,
   "metadata": {},
   "outputs": [],
   "source": []
  }
 ],
 "metadata": {
  "kernelspec": {
   "display_name": "Python 3",
   "language": "python",
   "name": "python3"
  },
  "language_info": {
   "codemirror_mode": {
    "name": "ipython",
    "version": 3
   },
   "file_extension": ".py",
   "mimetype": "text/x-python",
   "name": "python",
   "nbconvert_exporter": "python",
   "pygments_lexer": "ipython3",
   "version": "3.7.0"
  }
 },
 "nbformat": 4,
 "nbformat_minor": 2
}
