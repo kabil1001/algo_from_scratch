{
 "cells": [
  {
   "cell_type": "code",
   "execution_count": 29,
   "metadata": {},
   "outputs": [],
   "source": [
    "import pandas as pd\n",
    "import numpy as np"
   ]
  },
  {
   "cell_type": "code",
   "execution_count": 58,
   "metadata": {},
   "outputs": [],
   "source": [
    "# Make a prediction with weight\n",
    "def predict(row, weights):\n",
    "    activation = weights[0]\n",
    "    for i in range(len(row)-1):\n",
    "        activation += weights[i + 1] * row[i]\n",
    "    return 1.0 if activation >= 0.0 else -1.0\n",
    " \n",
    "# Estimate Perceptron weights using stochastic gradient descent\n",
    "def train_weights(train, l_rate, n_epoch):\n",
    "    weights = [0.0 for i in range(len(train[0]))]\n",
    "    for epoch in range(n_epoch):\n",
    "        for row in train:\n",
    "            prediction = predict(row, weights)\n",
    "            error = row[-1] - prediction\n",
    "            weights[0] = weights[0] + l_rate * error\n",
    "            for i in range(len(row)-1):\n",
    "                weights[i + 1] = weights[i + 1] + l_rate * error * row[i]\n",
    "    return weights\n",
    " \n",
    "# Perceptron Algorithm With Stochastic Gradient Descent\n",
    "def perceptron(train, test, l_rate, n_epoch):\n",
    "    predictions = list()\n",
    "    weights = train_weights(train, l_rate, n_epoch)\n",
    "    for row in test:\n",
    "        prediction = predict(row, weights)\n",
    "        predictions.append(prediction)\n",
    "    return(predictions)\n",
    " \n",
    "seed(1)\n",
    "# load and prepare data\n",
    "filename = 'C:/Users/kxj133/Downloads/task_9_5/Perceptron.xlsx'\n",
    "\n",
    "data = pd.read_excel(filename)\n",
    "\n",
    "data.columns = ['col1','col2','label']\n",
    "\n",
    "X_test = pd.DataFrame(columns = ['col1','col2'])\n",
    "X_test['col1'] = np.random.randint(low =1,high = 100,size =10000)\n",
    "X_test['col2'] = np.random.randint(low =1,high = 100,size =10000)\n",
    "\n",
    "X_test = X_test.values\n",
    "\n",
    "### Building Perceptron\n",
    "\n",
    "n_folds = 3\n",
    "l_rate = 0.01\n",
    "n_epoch = 2000\n",
    "Prediction = perceptron(data.values,X_test, l_rate, n_epoch)"
   ]
  },
  {
   "cell_type": "code",
   "execution_count": 68,
   "metadata": {},
   "outputs": [],
   "source": [
    "def activation_value(row, weights):\n",
    "    activation_list = []\n",
    "    activation = weights[0]\n",
    "    for i in range(len(row)-1):\n",
    "        activation += weights[i + 1] * row[i]\n",
    "    return activation"
   ]
  },
  {
   "cell_type": "code",
   "execution_count": 62,
   "metadata": {
    "scrolled": true
   },
   "outputs": [],
   "source": [
    "weight_list = train_weights(data.values,l_rate,n_epoch)"
   ]
  },
  {
   "cell_type": "code",
   "execution_count": 74,
   "metadata": {},
   "outputs": [],
   "source": [
    "activation_list = []\n",
    "for i in range(len(data.values)):\n",
    "    activation_list.append(activation_value(data.values[i],weight_list))"
   ]
  },
  {
   "cell_type": "code",
   "execution_count": 41,
   "metadata": {},
   "outputs": [],
   "source": [
    "import matplotlib.pyplot as plt\n",
    "import seaborn as sns"
   ]
  },
  {
   "cell_type": "code",
   "execution_count": 78,
   "metadata": {},
   "outputs": [
    {
     "data": {
      "image/png": "[encoded data removed]",
      "text/plain": [
       "<Figure size 432x288 with 1 Axes>"
      ]
     },
     "metadata": {
      "needs_background": "light"
     },
     "output_type": "display_data"
    }
   ],
   "source": [
    "# this is to plot the kde\n",
    "sns.scatterplot(x = data[data['label'] == -1]['col1'],\n",
    "                y = data[data['label'] == -1]['col2'],\n",
    "                label='class_0')\n",
    "\n",
    "sns.scatterplot(x = data[data['label'] == 1]['col1'],\n",
    "                y = data[data['label'] == 1]['col2'],\n",
    "                label='class_1')\n",
    "\n",
    "sns.scatterplot(x = X_test[0:10,0],\n",
    "                y = X_test[0:10,1],\n",
    "                label='test_data_points')\n",
    "\n",
    "plt.title(\"Decision Surface\")\n",
    "\n",
    "# beautifying the labels\n",
    "plt.xlabel('col1')\n",
    "plt.ylabel('col2')\n",
    "plt.show()"
   ]
  }
 ],
 "metadata": {
  "kernelspec": {
   "display_name": "Python 3",
   "language": "python",
   "name": "python3"
  },
  "language_info": {
   "codemirror_mode": {
    "name": "ipython",
    "version": 3
   },
   "file_extension": ".py",
   "mimetype": "text/x-python",
   "name": "python",
   "nbconvert_exporter": "python",
   "pygments_lexer": "ipython3",
   "version": "3.7.0"
  }
 },
 "nbformat": 4,
 "nbformat_minor": 2
}
